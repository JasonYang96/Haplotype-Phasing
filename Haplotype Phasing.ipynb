{
 "cells": [
  {
   "cell_type": "code",
   "execution_count": 2,
   "metadata": {
    "collapsed": true
   },
   "outputs": [],
   "source": [
    "import numpy as np\n",
    "import pandas"
   ]
  },
  {
   "cell_type": "code",
   "execution_count": 3,
   "metadata": {
    "collapsed": false
   },
   "outputs": [],
   "source": [
    "### load file as np array\n",
    "def load(file_name):\n",
    "    genotype = []\n",
    "    data = pandas.read_csv(file_name, dtype = object, header = None)[0]\n",
    "#    f = open(file_name, 'r+b')\n",
    "#     for line in f:\n",
    "#         print(line)\n",
    "#         n = list(line)\n",
    "#         print(n)\n",
    "#         genotype.append(n)\n",
    "#    f.close()\n",
    "#    genotype = np.array(, dtype=np.int8)\n",
    "    for line in data:\n",
    "        genotype.append(list(line))\n",
    "    genotype = np.array(genotype, dtype=np.int8)\n",
    "    return genotype\n",
    "\n",
    "veasy = load(\"data/very_easy_training_genotypes.txt\")\n",
    "easy = load(\"data/easy_training_genotypes.txt\")\n",
    "med = load(\"data/medium_training_genotypes.txt\")\n",
    "hard = load(\"data/hard_training_genotypes.txt\")\n",
    "veasy_theirs = load(\"data/very_easy_training_haplotypes.txt\")\n",
    "easy_theirs = load(\"data/easy_training_haplotypes.txt\")\n",
    "medium_theirs = load(\"data/medium_training_haplotypes.txt\")\n",
    "hard_theirs = load(\"data/hard_training_haplotypes.txt\")"
   ]
  },
  {
   "cell_type": "code",
   "execution_count": 4,
   "metadata": {
    "collapsed": true
   },
   "outputs": [],
   "source": [
    "### sorts rows of a and removes duplicate rows\n",
    "def unique_rows(a):\n",
    "    a = np.ascontiguousarray(a)\n",
    "    unique_a = np.unique(a.view([('', a.dtype)]*a.shape[1]))\n",
    "    return unique_a.view(a.dtype).reshape((unique_a.shape[0], a.shape[1]))\n",
    "\n",
    "### sort their haplotypes to compare\n",
    "def check(theirs, str):\n",
    "    theirs = unique_rows(theirs)\n",
    "    np.savetxt(str,theirs, fmt = '%s', delimiter=\"\")"
   ]
  },
  {
   "cell_type": "code",
   "execution_count": 6,
   "metadata": {
    "collapsed": false
   },
   "outputs": [
    {
     "ename": "ValueError",
     "evalue": "setting an array element with a sequence.",
     "output_type": "error",
     "traceback": [
      "\u001b[0;31m---------------------------------------------------------------------------\u001b[0m",
      "\u001b[0;31mValueError\u001b[0m                                Traceback (most recent call last)",
      "\u001b[0;32m<ipython-input-6-9462643d657e>\u001b[0m in \u001b[0;36m<module>\u001b[0;34m()\u001b[0m\n\u001b[1;32m     59\u001b[0m     \u001b[0mnp\u001b[0m\u001b[0;34m.\u001b[0m\u001b[0msavetxt\u001b[0m\u001b[0;34m(\u001b[0m\u001b[0mstr\u001b[0m\u001b[0;34m,\u001b[0m \u001b[0mout\u001b[0m\u001b[0;34m,\u001b[0m \u001b[0mfmt\u001b[0m \u001b[0;34m=\u001b[0m \u001b[0;34m'%s'\u001b[0m\u001b[0;34m,\u001b[0m \u001b[0mdelimiter\u001b[0m\u001b[0;34m=\u001b[0m\u001b[0;34m\"\"\u001b[0m\u001b[0;34m)\u001b[0m\u001b[0;34m\u001b[0m\u001b[0m\n\u001b[1;32m     60\u001b[0m \u001b[0;34m\u001b[0m\u001b[0m\n\u001b[0;32m---> 61\u001b[0;31m \u001b[0mtrivial_method\u001b[0m\u001b[0;34m(\u001b[0m\u001b[0mveasy\u001b[0m\u001b[0;34m,\u001b[0m \u001b[0;34m\"trivial_veasy.txt\"\u001b[0m\u001b[0;34m)\u001b[0m\u001b[0;34m\u001b[0m\u001b[0m\n\u001b[0m\u001b[1;32m     62\u001b[0m \u001b[0mtrivial_method\u001b[0m\u001b[0;34m(\u001b[0m\u001b[0measy\u001b[0m\u001b[0;34m,\u001b[0m \u001b[0;34m\"trivial_easy.txt\"\u001b[0m\u001b[0;34m)\u001b[0m\u001b[0;34m\u001b[0m\u001b[0m\n\u001b[1;32m     63\u001b[0m \u001b[0;31m# trivial_method(med, \"trivial_medium.txt\")\u001b[0m\u001b[0;34m\u001b[0m\u001b[0;34m\u001b[0m\u001b[0m\n",
      "\u001b[0;32m<ipython-input-6-9462643d657e>\u001b[0m in \u001b[0;36mtrivial_method\u001b[0;34m(a, str)\u001b[0m\n\u001b[1;32m     50\u001b[0m         \u001b[0mhaplotypes\u001b[0m\u001b[0;34m.\u001b[0m\u001b[0mappend\u001b[0m\u001b[0;34m(\u001b[0m\u001b[0mhaplotype\u001b[0m\u001b[0;34m)\u001b[0m\u001b[0;34m\u001b[0m\u001b[0m\n\u001b[1;32m     51\u001b[0m         \u001b[0mhaplotype\u001b[0m \u001b[0;34m=\u001b[0m \u001b[0;34m[\u001b[0m\u001b[0;34m]\u001b[0m\u001b[0;34m\u001b[0m\u001b[0m\n\u001b[0;32m---> 52\u001b[0;31m     \u001b[0mhaplotypes\u001b[0m \u001b[0;34m=\u001b[0m \u001b[0mnp\u001b[0m\u001b[0;34m.\u001b[0m\u001b[0marray\u001b[0m\u001b[0;34m(\u001b[0m\u001b[0mhaplotypes\u001b[0m\u001b[0;34m)\u001b[0m\u001b[0;34m\u001b[0m\u001b[0m\n\u001b[0m\u001b[1;32m     53\u001b[0m     \u001b[0;32mfor\u001b[0m \u001b[0mhaplotype\u001b[0m \u001b[0;32min\u001b[0m \u001b[0mhaplotypes\u001b[0m\u001b[0;34m:\u001b[0m\u001b[0;34m\u001b[0m\u001b[0m\n\u001b[1;32m     54\u001b[0m         \u001b[0mline\u001b[0m \u001b[0;34m=\u001b[0m \u001b[0mcartesian\u001b[0m\u001b[0;34m(\u001b[0m\u001b[0mhaplotype\u001b[0m\u001b[0;34m)\u001b[0m\u001b[0;34m\u001b[0m\u001b[0m\n",
      "\u001b[0;31mValueError\u001b[0m: setting an array element with a sequence."
     ]
    }
   ],
   "source": [
    "def cartesian(arrays, out=None):\n",
    "    arrays = [np.asarray(x) for x in arrays]\n",
    "    dtype = arrays[0].dtype\n",
    "\n",
    "    n = np.prod([x.size for x in arrays])\n",
    "    if out is None:\n",
    "        out = np.zeros([n, len(arrays)], dtype=dtype)\n",
    "\n",
    "    m = n / arrays[0].size\n",
    "    out[:,0] = np.repeat(arrays[0], m)\n",
    "    if arrays[1:]:\n",
    "        cartesian(arrays[1:], out=out[0:m,1:])\n",
    "        for j in range(1, arrays[0].size):\n",
    "            out[j*m:(j+1)*m,1:] = out[0:m,1:]\n",
    "    return out\n",
    "\n",
    "### Takes a matrix, 'a', of genotype reads\n",
    "### and saves the resulting haplotype\n",
    "### phases to the file 'str'\n",
    "### provides all possible haplotypes\n",
    "def trivial_method(a, str):\n",
    "    haplotypes = []\n",
    "    haplotype = []\n",
    "    delete = []\n",
    "    out = np.empty([1, a.shape[1]])\n",
    "    \n",
    "    for x in range(len(a)):\n",
    "        line = a[x]\n",
    "        for i in range(len(line)):\n",
    "            if line[i] == 1:\n",
    "                break\n",
    "            elif line[i] == 0:\n",
    "                haplotype.append(0)\n",
    "            else:\n",
    "                haplotype.append(1)\n",
    "        if len(haplotype) == len(line):\n",
    "            haplotypes.append(haplotype)\n",
    "            delete.append(x)\n",
    "        haplotype = []\n",
    "    a = np.delete(a, delete, 0)\n",
    "    for x in range(len(a)):\n",
    "        line = a[x]\n",
    "        for i in range(len(line)):\n",
    "            if line[i] == 1:\n",
    "                haplotype.append([0,1])\n",
    "            elif line[i] == 0:\n",
    "                haplotype.append([0])\n",
    "            else:\n",
    "                haplotype.append([1])\n",
    "        haplotypes.append(haplotype)\n",
    "        haplotype = []\n",
    "    haplotypes = np.array(haplotypes)\n",
    "    for haplotype in haplotypes:\n",
    "        line = cartesian(haplotype)\n",
    "        out = np.append(out, line, axis=0)\n",
    "    out = np.delete(out, 0, 0)\n",
    "    out = np.array(out, dtype=np.int8)\n",
    "    out = unique_rows(out)\n",
    "    np.savetxt(str, out, fmt = '%s', delimiter=\"\")\n",
    "\n",
    "trivial_method(veasy, \"trivial_veasy.txt\")\n",
    "trivial_method(easy, \"trivial_easy.txt\")\n",
    "# trivial_method(med, \"trivial_medium.txt\")\n",
    "# trivial_method(hard, \"trivial_hard.txt\")\n",
    "\n",
    "    "
   ]
  },
  {
   "cell_type": "code",
   "execution_count": 6,
   "metadata": {
    "collapsed": false
   },
   "outputs": [],
   "source": [
    "### Takes a matrix, 'a', of genotype reads\n",
    "### and saves the resulting haplotype\n",
    "### phasing to the file 'str'\n",
    "### Provides optimum minimum parsimony\n",
    "def imp_method(a, str):\n",
    "    haplotypes = []\n",
    "    haplotype = []\n",
    "    delete = []\n",
    "    # first get known haplotypes\n",
    "    for x in range(len(a)):\n",
    "        line = a[x]\n",
    "        for i in range(len(line)):\n",
    "            if line[i] == 1:\n",
    "                break\n",
    "            elif line[i] == 0:\n",
    "                haplotype.append(0)\n",
    "            else:\n",
    "                haplotype.append(1)\n",
    "        if len(haplotype) == len(line):\n",
    "            haplotypes.append(haplotype)\n",
    "            delete.append(x)\n",
    "        haplotype = []    \n",
    "    haplotypes = np.array(haplotypes)\n",
    "    haplotypes = unique_rows(haplotypes)\n",
    "    a = np.delete(a, delete, 0)\n",
    "\n",
    "    # then go through improved clark's method's iterations\n",
    "    while len(a) > 0:\n",
    "        for haplotype in haplotypes:\n",
    "            diff = a - haplotype\n",
    "            zero_rows = np.where(np.all(diff >= 0,axis=1))[0]\n",
    "            two_rows = np.where(np.all(diff < 2,axis=1))[0]\n",
    "            rows = np.intersect1d(zero_rows, two_rows)\n",
    "            haplotypes = np.append(haplotypes, diff[rows], axis=0)\n",
    "            haplotypes = unique_rows(haplotypes)\n",
    "            a = np.delete(a, rows, 0)\n",
    "    np.savetxt(str,haplotypes, fmt = '%s', delimiter=\"\")"
   ]
  },
  {
   "cell_type": "code",
   "execution_count": 7,
   "metadata": {
    "collapsed": false
   },
   "outputs": [
    {
     "name": "stdout",
     "output_type": "stream",
     "text": [
      "CPU times: user 4.77 ms, sys: 555 µs, total: 5.33 ms\n",
      "Wall time: 4.92 ms\n",
      "CPU times: user 107 ms, sys: 1.4 ms, total: 108 ms\n",
      "Wall time: 108 ms\n",
      "CPU times: user 346 ms, sys: 557 µs, total: 346 ms\n",
      "Wall time: 346 ms\n",
      "CPU times: user 12.1 s, sys: 53.1 ms, total: 12.1 s\n",
      "Wall time: 12.1 s\n"
     ]
    }
   ],
   "source": [
    "%time imp_method(veasy, \"mine_veasy.txt\")\n",
    "check(veasy_theirs, \"theirs_veasy.txt\")\n",
    "%time imp_method(easy, \"mine_easy.txt\")\n",
    "check(easy_theirs, \"theirs_easy.txt\")\n",
    "%time imp_method(med, \"mine_medium.txt\")\n",
    "check(medium_theirs, \"theirs_medium.txt\")\n",
    "%time imp_method(hard, \"mine_hard.txt\")\n",
    "check(hard_theirs, \"theirs_hard.txt\")"
   ]
  }
 ],
 "metadata": {
  "kernelspec": {
   "display_name": "Python 3",
   "language": "python",
   "name": "python3"
  },
  "language_info": {
   "codemirror_mode": {
    "name": "ipython",
    "version": 3
   },
   "file_extension": ".py",
   "mimetype": "text/x-python",
   "name": "python",
   "nbconvert_exporter": "python",
   "pygments_lexer": "ipython3",
   "version": "3.5.1"
  }
 },
 "nbformat": 4,
 "nbformat_minor": 0
}
